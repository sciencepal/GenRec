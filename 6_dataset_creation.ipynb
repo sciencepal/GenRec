{
 "cells": [
  {
   "cell_type": "code",
   "execution_count": 1,
   "metadata": {},
   "outputs": [],
   "source": [
    "import pandas as pd\n",
    "import csv\n",
    "import os\n",
    "import re\n",
    "from data_preprocessing import DataPreprocessing"
   ]
  },
  {
   "cell_type": "code",
   "execution_count": 2,
   "metadata": {},
   "outputs": [],
   "source": [
    "files = os.listdir(\"3_reviews_per_movie_cleaned\")\n",
    "\n",
    "for file in files:\n",
    "#     if (file != \"The Dark Knight 2008.csv\"): continue #uncomment line to test only 1 movie\n",
    "    csv_file = pd.read_csv(\"3_reviews_per_movie_cleaned/\" + file)\n",
    "    review_raw = csv_file['review']"
   ]
  },
  {
   "cell_type": "code",
   "execution_count": 3,
   "metadata": {},
   "outputs": [
    {
     "name": "stdout",
     "output_type": "stream",
     "text": [
      "confidently directed dark brooding packed impressive action sequence complex story dark knight includes career defining turn heath ledger oscar worthy performance tdk remains batman comic book created\n"
     ]
    }
   ],
   "source": [
    "sample = 'Confidently directed, dark, brooding, http://www.dhfsj.com and packed with impressive action sequences and a complex story, The Dark Knight includes a career-defining turn from Heath Ledger as well as other Oscar worthy performances, TDK remains not only the best Batman movie, but comic book movie ever created.'\n",
    "data = DataPreprocessing(sample)\n",
    "print (data.preprocess())"
   ]
  },
  {
   "cell_type": "code",
   "execution_count": 4,
   "metadata": {},
   "outputs": [
    {
     "data": {
      "text/html": [
       "<div>\n",
       "<style scoped>\n",
       "    .dataframe tbody tr th:only-of-type {\n",
       "        vertical-align: middle;\n",
       "    }\n",
       "\n",
       "    .dataframe tbody tr th {\n",
       "        vertical-align: top;\n",
       "    }\n",
       "\n",
       "    .dataframe thead th {\n",
       "        text-align: right;\n",
       "    }\n",
       "</style>\n",
       "<table border=\"1\" class=\"dataframe\">\n",
       "  <thead>\n",
       "    <tr style=\"text-align: right;\">\n",
       "      <th></th>\n",
       "      <th>review</th>\n",
       "    </tr>\n",
       "  </thead>\n",
       "  <tbody>\n",
       "    <tr>\n",
       "      <th>0</th>\n",
       "      <td>andrew dominiks assassination jesse james cowa...</td>\n",
       "    </tr>\n",
       "    <tr>\n",
       "      <th>1</th>\n",
       "      <td>watched trailer hour forty minute long disappo...</td>\n",
       "    </tr>\n",
       "    <tr>\n",
       "      <th>2</th>\n",
       "      <td>jesse james newspaper account exploit dime nov...</td>\n",
       "    </tr>\n",
       "    <tr>\n",
       "      <th>3</th>\n",
       "      <td>wow style assassination jesse jamed coward rob...</td>\n",
       "    </tr>\n",
       "    <tr>\n",
       "      <th>4</th>\n",
       "      <td>writer director andrew dominik long titled len...</td>\n",
       "    </tr>\n",
       "  </tbody>\n",
       "</table>\n",
       "</div>"
      ],
      "text/plain": [
       "                                              review\n",
       "0  andrew dominiks assassination jesse james cowa...\n",
       "1  watched trailer hour forty minute long disappo...\n",
       "2  jesse james newspaper account exploit dime nov...\n",
       "3  wow style assassination jesse jamed coward rob...\n",
       "4  writer director andrew dominik long titled len..."
      ]
     },
     "execution_count": 4,
     "metadata": {},
     "output_type": "execute_result"
    }
   ],
   "source": [
    "csv_file.head()"
   ]
  },
  {
   "cell_type": "code",
   "execution_count": 5,
   "metadata": {
    "scrolled": false
   },
   "outputs": [
    {
     "name": "stdout",
     "output_type": "stream",
     "text": [
      "10 % movies cleaned !!\n",
      "20 % movies cleaned !!\n",
      "Hardball 2001.csv\n",
      "30 % movies cleaned !!\n",
      "40 % movies cleaned !!\n",
      "Step Up 2: The Streets 2008.csv\n",
      "50 % movies cleaned !!\n",
      "The Mountain II 2016.csv\n",
      "The Ottoman Lieutenant 2017.csv\n",
      "60 % movies cleaned !!\n",
      "70 % movies cleaned !!\n",
      "80 % movies cleaned !!\n",
      "90 % movies cleaned !!\n",
      "100 % movies cleaned !!\n"
     ]
    }
   ],
   "source": [
    "csv.register_dialect('myDialect',delimiter=',', quoting=csv.QUOTE_ALL,skipinitialspace=True)\n",
    "files = os.listdir(\"3_reviews_per_movie_cleaned\")\n",
    "\n",
    "if not os.path.exists('4_reviews_dataset'):\n",
    "    os.makedirs('4_reviews_dataset')\n",
    "\n",
    "complete = 0\n",
    "percent_complete = 10\n",
    "num_files = len(files)\n",
    "for file in files:\n",
    "    csv_file = pd.read_csv(\"3_reviews_per_movie_cleaned/\" + file)\n",
    "    review_raw = csv_file['review']\n",
    "    reviews_selected = []\n",
    "#     if (file != \"The Dark Knight 2008.csv\"): continue #uncomment line to test only 1 movie\n",
    "    cnt = 0\n",
    "    for review in review_raw:\n",
    "        if len(review.split()) >= 100:\n",
    "            reviews_selected.append(review)\n",
    "            cnt += 1\n",
    "            if cnt >= 20:\n",
    "                break\n",
    "    if len(reviews_selected) < 20:\n",
    "        complete += 1\n",
    "        print (file)\n",
    "        continue\n",
    "    with open(\"4_reviews_dataset/\" + file, \"w\") as f:\n",
    "        writer = csv.writer(f, dialect='myDialect')\n",
    "        writer.writerow(['review'])\n",
    "        for review in reviews_selected:\n",
    "            review_line = []\n",
    "            review_line.append(review)\n",
    "            writer.writerow(review_line)\n",
    "    complete += 1\n",
    "    \n",
    "    if (int(percent_complete*num_files/100) == complete):\n",
    "        print (f\"{percent_complete} % movies cleaned !!\")\n",
    "        percent_complete += 10"
   ]
  },
  {
   "cell_type": "code",
   "execution_count": 6,
   "metadata": {
    "scrolled": true
   },
   "outputs": [
    {
     "name": "stdout",
     "output_type": "stream",
     "text": [
      "10 % movies cleaned !!\n",
      "20 % movies cleaned !!\n",
      "30 % movies cleaned !!\n",
      "40 % movies cleaned !!\n",
      "50 % movies cleaned !!\n",
      "60 % movies cleaned !!\n",
      "70 % movies cleaned !!\n",
      "80 % movies cleaned !!\n",
      "90 % movies cleaned !!\n",
      "100 % movies cleaned !!\n"
     ]
    }
   ],
   "source": [
    "csv.register_dialect('myDialect',delimiter=',', quoting=csv.QUOTE_ALL,skipinitialspace=True)\n",
    "files = os.listdir(\"4_reviews_dataset\")\n",
    "\n",
    "if not os.path.exists('5_test_train_dataset'):\n",
    "    os.makedirs('5_test_train_dataset')\n",
    "    \n",
    "genre_list = [\n",
    "    'Action',\n",
    "    'Adventure',\n",
    "    'Animation',\n",
    "    'Biography',\n",
    "    'Comedy',\n",
    "    'Crime',\n",
    "    'Drama',\n",
    "    'Fantasy',\n",
    "    'History',\n",
    "    'Horror',\n",
    "    'Music',\n",
    "    'Mystery',\n",
    "    'Romance',\n",
    "    'Sci-Fi',\n",
    "    'Sport',\n",
    "    'Thriller',\n",
    "    'War',\n",
    "]\n",
    "\n",
    "rejected_genres = [\n",
    "    'Superhero',\n",
    "    'Short',\n",
    "    'Musical',\n",
    "    'Film-Noir',\n",
    "    'Documentary',\n",
    "    'Family',\n",
    "    'Western'\n",
    "]\n",
    "\n",
    "genre_map = {}\n",
    "\n",
    "for id, genre in enumerate(genre_list):\n",
    "    genre_map[genre] = id\n",
    "\n",
    "files = os.listdir(\"1_movies_per_genre\")\n",
    "cols_list = ['name', 'genres']\n",
    "name_to_genre_list = {}\n",
    "for file in files:\n",
    "    with open(\"1_movies_per_genre/\" + file, \"r\") as f:\n",
    "#         csv_file = pd.read_csv(\"1_movies_per_genre/\" + file, usecols=cols_list)\n",
    "        csv_file = pd.read_csv(\"1_movies_per_genre/\" + file)\n",
    "        for index, movie_row in csv_file.iterrows():\n",
    "            if name_to_genre_list.get(movie_row['name']) is None:\n",
    "                movie_genres = movie_row['genres'].split(';')\n",
    "                final_movie_genres = []\n",
    "                for movie_genre in movie_genres:\n",
    "                    mg = movie_genre.strip()\n",
    "                    if mg != '' and mg not in rejected_genres:\n",
    "                        final_movie_genres.append(mg)\n",
    "                name_to_genre_list[movie_row['name'] + ' ' + str(movie_row['year'])] = final_movie_genres\n",
    "                \n",
    "files = os.listdir(\"4_reviews_dataset\")\n",
    "complete = 0\n",
    "percent_complete = 10\n",
    "num_files = len(files)\n",
    "headers_x = ['review']\n",
    "headers_y = []\n",
    "for genre in genre_list:\n",
    "    headers_y.append(genre)\n",
    "# print (headers_y)\n",
    "with open(\"5_test_train_dataset/x_test.csv\", \"w\") as x_test:\n",
    "    with open(\"5_test_train_dataset/x_train.csv\", \"w\") as x_train:\n",
    "        with open(\"5_test_train_dataset/y_test.csv\", \"w\") as y_test:\n",
    "            with open(\"5_test_train_dataset/y_train.csv\", \"w\") as y_train:\n",
    "                \n",
    "                writer_x_test = csv.writer(x_test, dialect='myDialect')\n",
    "                writer_x_test.writerow(headers_x)\n",
    "                \n",
    "                writer_x_train = csv.writer(x_train, dialect='myDialect')\n",
    "                writer_x_train.writerow(headers_x)\n",
    "                \n",
    "                writer_y_test = csv.writer(y_test, dialect='myDialect')\n",
    "                writer_y_test.writerow(headers_y)\n",
    "                \n",
    "                writer_y_train = csv.writer(y_train, dialect='myDialect')\n",
    "                writer_y_train.writerow(headers_y)\n",
    "                \n",
    "                for file in files:\n",
    "#                     if file != \"Schindler's List 1993.csv\":\n",
    "#                         continue\n",
    "                    count = 1\n",
    "                    movie_name = file.split('.csv')[0]\n",
    "                    if name_to_genre_list.get(movie_name) is None:\n",
    "                        continue\n",
    "                    genre_encoding = [0] * len(genre_list)\n",
    "                    for movie_genre in name_to_genre_list[movie_name]:\n",
    "                        genre_encoding[genre_map[movie_genre]] = 1\n",
    "                    csv_file = pd.read_csv(\"4_reviews_dataset/\" + file)\n",
    "                    review_raw = csv_file['review']\n",
    "                    for review in review_raw:\n",
    "                        if count <= 16:\n",
    "#                             print (genre_encoding)\n",
    "                            writer_x_test.writerow([review])\n",
    "                            writer_y_test.writerow(genre_encoding)\n",
    "                        else:\n",
    "#                             print (genre_encoding)\n",
    "                            writer_x_train.writerow([review])\n",
    "                            writer_y_train.writerow(genre_encoding)\n",
    "                        count += 1\n",
    "                    complete += 1\n",
    "\n",
    "                    if (int(percent_complete*num_files/100) == complete):\n",
    "                        print (f\"{percent_complete} % movies cleaned !!\")\n",
    "                        percent_complete += 10"
   ]
  },
  {
   "cell_type": "code",
   "execution_count": 7,
   "metadata": {},
   "outputs": [
    {
     "name": "stdout",
     "output_type": "stream",
     "text": [
      "['Biography', 'Drama', 'History']\n"
     ]
    }
   ],
   "source": [
    "print (name_to_genre_list[\"Schindler's List 1993\"])"
   ]
  }
 ],
 "metadata": {
  "kernelspec": {
   "display_name": "Python 3",
   "language": "python",
   "name": "python3"
  },
  "language_info": {
   "codemirror_mode": {
    "name": "ipython",
    "version": 3
   },
   "file_extension": ".py",
   "mimetype": "text/x-python",
   "name": "python",
   "nbconvert_exporter": "python",
   "pygments_lexer": "ipython3",
   "version": "3.7.3"
  }
 },
 "nbformat": 4,
 "nbformat_minor": 2
}
