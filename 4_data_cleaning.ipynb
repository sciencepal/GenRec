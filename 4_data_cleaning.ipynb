{
 "cells": [
  {
   "cell_type": "code",
   "execution_count": 1,
   "metadata": {},
   "outputs": [],
   "source": [
    "import pandas as pd\n",
    "import csv\n",
    "import os\n",
    "import re\n",
    "from data_preprocessing import DataPreprocessing"
   ]
  },
  {
   "cell_type": "code",
   "execution_count": 2,
   "metadata": {},
   "outputs": [],
   "source": [
    "files = os.listdir(\"2_reviews_per_movie_raw\")\n",
    "\n",
    "for file in files:\n",
    "    if (file != \"The Dark Knight 2008.csv\"): continue #uncomment line to test only 1 movie\n",
    "    csv_file = pd.read_csv(\"2_reviews_per_movie_raw/\" + file)\n",
    "    review_raw = csv_file['review']"
   ]
  },
  {
   "cell_type": "code",
   "execution_count": 3,
   "metadata": {},
   "outputs": [
    {
     "name": "stdout",
     "output_type": "stream",
     "text": [
      "confidently directed dark brooding packed impressive action sequence complex story dark knight includes career defining turn heath ledger oscar worthy performance tdk remains batman comic book created\n"
     ]
    }
   ],
   "source": [
    "sample = 'Confidently directed, dark, brooding, http://www.dhfsj.com and packed with impressive action sequences and a complex story, The Dark Knight includes a career-defining turn from Heath Ledger as well as other Oscar worthy performances, TDK remains not only the best Batman movie, but comic book movie ever created.'\n",
    "data = DataPreprocessing(sample)\n",
    "print (data.preprocess())"
   ]
  },
  {
   "cell_type": "code",
   "execution_count": 4,
   "metadata": {},
   "outputs": [
    {
     "data": {
      "text/html": [
       "<div>\n",
       "<style scoped>\n",
       "    .dataframe tbody tr th:only-of-type {\n",
       "        vertical-align: middle;\n",
       "    }\n",
       "\n",
       "    .dataframe tbody tr th {\n",
       "        vertical-align: top;\n",
       "    }\n",
       "\n",
       "    .dataframe thead th {\n",
       "        text-align: right;\n",
       "    }\n",
       "</style>\n",
       "<table border=\"1\" class=\"dataframe\">\n",
       "  <thead>\n",
       "    <tr style=\"text-align: right;\">\n",
       "      <th></th>\n",
       "      <th>username</th>\n",
       "      <th>rating</th>\n",
       "      <th>helpful</th>\n",
       "      <th>total</th>\n",
       "      <th>date</th>\n",
       "      <th>title</th>\n",
       "      <th>review</th>\n",
       "    </tr>\n",
       "  </thead>\n",
       "  <tbody>\n",
       "    <tr>\n",
       "      <th>0</th>\n",
       "      <td>MR_Heraclius</td>\n",
       "      <td>10</td>\n",
       "      <td>85</td>\n",
       "      <td>92</td>\n",
       "      <td>12 February 2020</td>\n",
       "      <td>The Dark Knight\\n</td>\n",
       "      <td>Confidently directed, dark, brooding, and pack...</td>\n",
       "    </tr>\n",
       "    <tr>\n",
       "      <th>1</th>\n",
       "      <td>Smells_Like_Cheese</td>\n",
       "      <td>10</td>\n",
       "      <td>760</td>\n",
       "      <td>941</td>\n",
       "      <td>20 July 2008</td>\n",
       "      <td>The Batman of our dreams! So much more than a...</td>\n",
       "      <td>I got to see The Dark Knight on Wednesday nigh...</td>\n",
       "    </tr>\n",
       "    <tr>\n",
       "      <th>2</th>\n",
       "      <td>straightblaster</td>\n",
       "      <td>10</td>\n",
       "      <td>3746</td>\n",
       "      <td>4780</td>\n",
       "      <td>9 July 2008</td>\n",
       "      <td>Film surpasses the hype\\n</td>\n",
       "      <td>We've been subjected to enormous amounts of hy...</td>\n",
       "    </tr>\n",
       "    <tr>\n",
       "      <th>3</th>\n",
       "      <td>Aaron_Kyle</td>\n",
       "      <td>9</td>\n",
       "      <td>259</td>\n",
       "      <td>325</td>\n",
       "      <td>12 October 2018</td>\n",
       "      <td>Superhero Genre - Alive and kicking\\n</td>\n",
       "      <td>First I'd controversially like to point out th...</td>\n",
       "    </tr>\n",
       "    <tr>\n",
       "      <th>4</th>\n",
       "      <td>filmquestint</td>\n",
       "      <td>10</td>\n",
       "      <td>532</td>\n",
       "      <td>687</td>\n",
       "      <td>20 July 2008</td>\n",
       "      <td>Heath Ledger's Dark and Brilliant Swan Song\\n</td>\n",
       "      <td>I couldn't believe \"The Dark knight\" could liv...</td>\n",
       "    </tr>\n",
       "  </tbody>\n",
       "</table>\n",
       "</div>"
      ],
      "text/plain": [
       "             username rating  helpful  total              date  \\\n",
       "0        MR_Heraclius     10       85     92  12 February 2020   \n",
       "1  Smells_Like_Cheese     10      760    941      20 July 2008   \n",
       "2     straightblaster     10     3746   4780       9 July 2008   \n",
       "3          Aaron_Kyle      9      259    325   12 October 2018   \n",
       "4        filmquestint     10      532    687      20 July 2008   \n",
       "\n",
       "                                               title  \\\n",
       "0                                  The Dark Knight\\n   \n",
       "1   The Batman of our dreams! So much more than a...   \n",
       "2                          Film surpasses the hype\\n   \n",
       "3              Superhero Genre - Alive and kicking\\n   \n",
       "4      Heath Ledger's Dark and Brilliant Swan Song\\n   \n",
       "\n",
       "                                              review  \n",
       "0  Confidently directed, dark, brooding, and pack...  \n",
       "1  I got to see The Dark Knight on Wednesday nigh...  \n",
       "2  We've been subjected to enormous amounts of hy...  \n",
       "3  First I'd controversially like to point out th...  \n",
       "4  I couldn't believe \"The Dark knight\" could liv...  "
      ]
     },
     "execution_count": 4,
     "metadata": {},
     "output_type": "execute_result"
    }
   ],
   "source": [
    "csv_file.head()"
   ]
  },
  {
   "cell_type": "code",
   "execution_count": 5,
   "metadata": {},
   "outputs": [
    {
     "name": "stdout",
     "output_type": "stream",
     "text": [
      "10 % movies cleaned !!\n",
      "20 % movies cleaned !!\n",
      "30 % movies cleaned !!\n",
      "40 % movies cleaned !!\n",
      "50 % movies cleaned !!\n",
      "60 % movies cleaned !!\n",
      "70 % movies cleaned !!\n",
      "80 % movies cleaned !!\n",
      "90 % movies cleaned !!\n",
      "100 % movies cleaned !!\n"
     ]
    }
   ],
   "source": [
    "csv.register_dialect('myDialect',delimiter=',', quoting=csv.QUOTE_ALL,skipinitialspace=True)\n",
    "files = os.listdir(\"2_reviews_per_movie_raw\")\n",
    "\n",
    "if not os.path.exists('3_reviews_per_movie_cleaned'):\n",
    "    os.makedirs('3_reviews_per_movie_cleaned')\n",
    "\n",
    "complete = 0\n",
    "percent_complete = 10\n",
    "num_files = len(files)\n",
    "for file in files:\n",
    "    csv_file = pd.read_csv(\"2_reviews_per_movie_raw/\" + file)\n",
    "    review_raw = csv_file['review']\n",
    "#     if (file != \"The Dark Knight 2008.csv\"): continue #uncomment line to test only 1 movie\n",
    "    with open(\"3_reviews_per_movie_cleaned/\" + file, \"w\") as f:\n",
    "        writer = csv.writer(f, dialect='myDialect')\n",
    "        writer.writerow(['review'])\n",
    "        for review in review_raw:\n",
    "            review_clean = DataPreprocessing(review).preprocess()\n",
    "            if len(review_clean.split()) >= 50:\n",
    "                review_line = []\n",
    "                review_line.append(review_clean)\n",
    "                writer.writerow(review_line)\n",
    "    complete += 1\n",
    "    \n",
    "    if (int(percent_complete*num_files/100) == complete):\n",
    "        print (f\"{percent_complete} % movies cleaned !!\")\n",
    "        percent_complete += 10"
   ]
  }
 ],
 "metadata": {
  "kernelspec": {
   "display_name": "Python 3",
   "language": "python",
   "name": "python3"
  },
  "language_info": {
   "codemirror_mode": {
    "name": "ipython",
    "version": 3
   },
   "file_extension": ".py",
   "mimetype": "text/x-python",
   "name": "python",
   "nbconvert_exporter": "python",
   "pygments_lexer": "ipython3",
   "version": "3.7.6"
  }
 },
 "nbformat": 4,
 "nbformat_minor": 4
}
