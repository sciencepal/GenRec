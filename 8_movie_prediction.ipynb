{
 "cells": [
  {
   "cell_type": "code",
   "execution_count": 1,
   "metadata": {},
   "outputs": [
    {
     "name": "stderr",
     "output_type": "stream",
     "text": [
      "Using TensorFlow backend.\n"
     ]
    }
   ],
   "source": [
    "import sys\n",
    "import os\n",
    "from sklearn.datasets import fetch_20newsgroups\n",
    "from keras.layers import  Dropout, Dense, Flatten, RepeatVector, Conv2D\n",
    "from keras.models import Sequential, model_from_json\n",
    "from keras.utils.vis_utils import plot_model\n",
    "from sklearn.feature_extraction.text import TfidfVectorizer\n",
    "import numpy as np\n",
    "from sklearn import metrics\n",
    "import pandas as pd\n",
    "from data_preprocessing import DataPreprocessing\n",
    "import seaborn as sns\n",
    "import matplotlib.pyplot as plt\n",
    "import math\n",
    "import pydot\n",
    "import csv\n",
    "from sklearn.metrics.pairwise import cosine_similarity"
   ]
  },
  {
   "cell_type": "markdown",
   "metadata": {},
   "source": [
    "# Import DNN"
   ]
  },
  {
   "cell_type": "code",
   "execution_count": 3,
   "metadata": {},
   "outputs": [
    {
     "name": "stdout",
     "output_type": "stream",
     "text": [
      "Loaded model from disk\n"
     ]
    }
   ],
   "source": [
    "def load_model(json_file, h5_file):\n",
    "    json_file = open(json_file, 'r')\n",
    "    loaded_model_json = json_file.read()\n",
    "    json_file.close()\n",
    "    loaded_model = model_from_json(loaded_model_json)\n",
    "    # load weights into new model\n",
    "    loaded_model.load_weights(h5_file)\n",
    "    print(\"Loaded model from disk\")\n",
    "    return loaded_model\n",
    "\n",
    "x_train = pd.read_csv('6_new_test_train_dataset/x_test.csv')['review']\n",
    "x_test = pd.read_csv('6_new_test_train_dataset/x_train.csv')['review']\n",
    "loaded_model = load_model(\"model_DNN_4_layers.json\", \"model_DNN_4_layers.h5\")\n"
   ]
  },
  {
   "cell_type": "code",
   "execution_count": 4,
   "metadata": {},
   "outputs": [],
   "source": [
    "def TFIDF(X_train, X_test,MAX_NB_WORDS=75000):\n",
    "    vectorizer_x = TfidfVectorizer(max_features=MAX_NB_WORDS)\n",
    "    X_train = vectorizer_x.fit_transform(X_train).toarray()\n",
    "    X_test = vectorizer_x.transform(X_test).toarray()\n",
    "    return (X_train,X_test)\n",
    "\n"
   ]
  },
  {
   "cell_type": "code",
   "execution_count": 6,
   "metadata": {},
   "outputs": [],
   "source": [
    "genre_list = [\n",
    "        'Action',\n",
    "        'Adventure',\n",
    "        'Animation',\n",
    "        'Biography',\n",
    "        'Comedy',\n",
    "        'Crime',\n",
    "        'Drama',\n",
    "        'Fantasy',\n",
    "        'History',\n",
    "        'Horror',\n",
    "        'Music',\n",
    "        'Mystery',\n",
    "        'Romance',\n",
    "        'Sci-Fi',\n",
    "        'Sport',\n",
    "        'Thriller',\n",
    "        'War'\n",
    "    ]"
   ]
  },
  {
   "cell_type": "code",
   "execution_count": 7,
   "metadata": {},
   "outputs": [
    {
     "name": "stdout",
     "output_type": "stream",
     "text": [
      "WARNING:tensorflow:From /opt/anaconda3/lib/python3.7/site-packages/keras/backend/tensorflow_backend.py:422: The name tf.global_variables is deprecated. Please use tf.compat.v1.global_variables instead.\n",
      "\n",
      "[[23.  6.  1.  0. 12.  7.  1. 19.  0. 13.  0.  5.  0.  4.  0.  8.  0.]]\n"
     ]
    },
    {
     "data": {
      "image/png": "[encoded data removed]",
      "text/plain": [
       "<Figure size 432x288 with 1 Axes>"
      ]
     },
     "metadata": {},
     "output_type": "display_data"
    }
   ],
   "source": [
    "movie_name = \"green_lantern\"\n",
    "test_review = \"\"\n",
    "\n",
    "with open(f\"DNN_input_files/input2-{movie_name}.txt\", \"r\") as fi:\n",
    "    test_review = fi.read()\n",
    "    \n",
    "test_review = DataPreprocessing(test_review).preprocess()\n",
    "\n",
    "train_review, test_review = TFIDF(x_train,[test_review])\n",
    "predicted = loaded_model.predict(test_review)\n",
    "predicted1 = (predicted)\n",
    "sum=0\n",
    "for num in predicted1[0]:\n",
    "    sum += num\n",
    "\n",
    "print(np.round(predicted1*100.0/sum))\n",
    "pred = np.round(predicted1*100.0/sum)\n",
    "def pieplot(x_data, y_label) :\n",
    "#     explode = (0, 0.1, 0, 0)  # only \"explode\" the 2nd slice (i.e. 'Hogs')\n",
    "    data = list(zip(x_data, y_label))\n",
    "\n",
    "    exploded = []\n",
    "    y_label_1 = []\n",
    "    gt_10_values = []\n",
    "    gt_10_genres = []\n",
    "    others = 0\n",
    "    for i, percent in enumerate(x_data):\n",
    "        if percent >= 10:\n",
    "            gt_10_values.append(percent)\n",
    "            gt_10_genres.append(y_label[i])\n",
    "        else:\n",
    "            others += percent\n",
    "    gt_10_values.append(others)\n",
    "    gt_10_genres.append(\"Others\")\n",
    "#     top_3_tuples = data[0:3]\n",
    "    fig1, ax1 = plt.subplots()\n",
    "    \n",
    "    ax1.pie(gt_10_values, labels=gt_10_genres, autopct='%1.1f%%', radius=2000,\n",
    "            shadow=True, startangle=140)\n",
    "    ax1.axis('equal')  # Equal aspect ratio ensures that pie is drawn as a circle.\n",
    "    plt.show()\n",
    "    \n",
    "pieplot(pred[0], genre_list)"
   ]
  },
  {
   "cell_type": "code",
   "execution_count": 16,
   "metadata": {},
   "outputs": [],
   "source": [
    "def recommend_movies_by_genres(genres=[], num_movies=10):\n",
    "    df = pd.read_csv(\"6_recommendation/movies.csv\")\n",
    "    input_genresi=genres\n",
    "    list_of_cos_sim = []\n",
    "    for idx,row in df.iterrows():\n",
    "        row1 = row[1:]\n",
    "#         print(row1)\n",
    "        try:\n",
    "            rowi = list(map(int, row1))\n",
    "        except Exception as er:\n",
    "            continue\n",
    "        cos_sim = (cosine_similarity([rowi], [input_genresi]))\n",
    "        list_of_cos_sim.append((cos_sim[0][0],row[0]))\n",
    "    list_of_cos_sim.sort(reverse=True)\n",
    "    count = 0\n",
    "    for value, name in list_of_cos_sim:\n",
    "        print (name + \"\\t\\t\\t\\t\\t\" + str(value))\n",
    "#         print (df.loc[ df[\"movie_name\"] == movie_name])\n",
    "        count+=1\n",
    "        if count >= num_movies:\n",
    "            break\n",
    "\n",
    "recommend_movies_by_genres(genres=pred[0], num_movies=10)"
   ]
  },
  {
   "cell_type": "code",
   "execution_count": 8,
   "metadata": {},
   "outputs": [
    {
     "name": "stdout",
     "output_type": "stream",
     "text": [
      "10% Files done\n",
      "20% Files done\n",
      "30% Files done\n",
      "40% Files done\n",
      "50% Files done\n",
      "60% Files done\n",
      "70% Files done\n",
      "80% Files done\n",
      "90% Files done\n",
      "100% Files done\n"
     ]
    },
    {
     "data": {
      "image/png": "[encoded data removed]",
      "text/plain": [
       "<Figure size 720x288 with 1 Axes>"
      ]
     },
     "metadata": {},
     "output_type": "display_data"
    }
   ],
   "source": [
    "files = os.listdir(\"3_reviews_per_movie_cleaned\")\n",
    "\n",
    "\n",
    "csv.register_dialect('myDialect',delimiter=',', quoting=csv.QUOTE_ALL,skipinitialspace=True)\n",
    "with open(\"6_recommendation/movies.csv\", \"w\") as f:\n",
    "    writer = csv.writer(f, dialect='myDialect')\n",
    "    writer.writerow(['movie_name'] + genre_list)\n",
    "\n",
    "ctr = 10\n",
    "ctr1 = 0\n",
    "for file in files:\n",
    "    csv_file = pd.read_csv(\"3_reviews_per_movie_cleaned/\" + file)\n",
    "    test_review = csv_file['review']\n",
    "    review1 = \"\"\n",
    "    for review in test_review:\n",
    "        review1 += review + \" \"\n",
    "    train_review, test_review = TFIDF(x_train,[review1])\n",
    "    \n",
    "    \n",
    "    predicted = loaded_model.predict(test_review)\n",
    "    predicted1 = (predicted)\n",
    "    sum=0\n",
    "    for num in predicted1[0]:\n",
    "        sum += num\n",
    "    pred = np.round(predicted1*100.0/sum)\n",
    "    with open(\"6_recommendation/movies.csv\", \"a\") as f:\n",
    "        movie_name = []\n",
    "        writer = csv.writer(f, dialect='myDialect')\n",
    "        movie_name.append(file[:-4])\n",
    "        movie_name.extend(pred[0])\n",
    "        writer.writerow(movie_name)\n",
    "    ctr1 += 1\n",
    "    if ctr == ctr1*100//len(files):\n",
    "        print(str(ctr) + \"% Files done\")\n",
    "        ctr += 10\n",
    "    top_df = pd.DataFrame(list(zip(genre_list,pred[0])))\n",
    "    top_df.columns=[\"Genre\", \"Percentage\"]#Barplot of most freq words\n",
    "    sns.set(rc={'figure.figsize':(10,4)})\n",
    "    g = sns.barplot(x=\"Genre\", y=\"Percentage\", data=top_df)\n",
    "    g.set_xticklabels(g.get_xticklabels(), rotation=60)"
   ]
  },
  {
   "cell_type": "code",
   "execution_count": 55,
   "metadata": {},
   "outputs": [
    {
     "name": "stdout",
     "output_type": "stream",
     "text": [
      "\n",
      "Genres:movie_name     The Avengers 2012\n",
      "Action                        33\n",
      "Adventure                     33\n",
      "Animation                      0\n",
      "Biography                      0\n",
      "Comedy                         0\n",
      "Crime                          0\n",
      "Documentary                    0\n",
      "Drama                          0\n",
      "Family                         0\n",
      "Fantasy                        0\n",
      "History                        0\n",
      "Horror                         0\n",
      "Music                          0\n",
      "Mystery                        0\n",
      "Romance                        0\n",
      "Sci-Fi                        33\n",
      "Sport                          0\n",
      "Thriller                       0\n",
      "War                            0\n",
      "Western                        0\n",
      "Name: 6, dtype: object\n",
      "X-Men: Days of Future Past 2014\t\t\t\t\t1.0\n",
      "Star Wars: Episode VII - The Force Awakens 2015\t\t\t\t\t1.0\n",
      "Star Trek 2009\t\t\t\t\t1.0\n",
      "Serenity 2005\t\t\t\t\t1.0\n",
      "Rogue One: A Star Wars Story 2016\t\t\t\t\t1.0\n",
      "Predator 1987\t\t\t\t\t1.0\n",
      "Mad Max: Fury Road 2015\t\t\t\t\t1.0\n",
      "Jurassic Park 1993\t\t\t\t\t1.0\n",
      "Iron Man 2008\t\t\t\t\t1.0\n",
      "Inception 2010\t\t\t\t\t1.0\n"
     ]
    }
   ],
   "source": [
    "def recommend_movies(movie_name=\"3 Idiots 2009\", num_movies=10):\n",
    "    df = pd.read_csv(\"6_recommendation/movies.csv\")\n",
    "    input_genres = df.loc[df[\"movie_name\"] == movie_name]\n",
    "    input_genres1 = []\n",
    "    \n",
    "    for genre in genre_list:\n",
    "        input_genres1.append(input_genres[genre])\n",
    "    input_genresi = list(map(int, input_genres1))\n",
    "    list_of_cos_sim = []\n",
    "    for idx,row in df.iterrows():\n",
    "        if row[0] == movie_name:\n",
    "            print(\"Genres:\" + str(row))\n",
    "            continue\n",
    "        row1 = row[1:]\n",
    "        rowi = list(map(int, row1))\n",
    "        cos_sim = (cosine_similarity([rowi], [input_genresi]))\n",
    "        list_of_cos_sim.append((cos_sim[0][0],row[0]))\n",
    "    list_of_cos_sim.sort(reverse=True)\n",
    "    count = 0\n",
    "    for value, name in list_of_cos_sim:\n",
    "        print (name + \"\\t\\t\\t\\t\\t\" + str(value))\n",
    "#         print (df.loc[ df[\"movie_name\"] == movie_name])\n",
    "        count+=1\n",
    "        if count >= num_movies:\n",
    "            break\n",
    "#     print(input_genres1)\n",
    "# recommend_movies('The Shining 1980', 10)\n",
    "# print()\n",
    "# recommend_movies('Whiplash 2014', 10)\n",
    "# print()\n",
    "# recommend_movies('King Kong 1933', 10)\n",
    "# print()\n",
    "# recommend_movies('Rocky 1976', 10)\n",
    "# print()\n",
    "# recommend_movies('M.S. Dhoni: The Untold Story 2016', 10)\n",
    "print()\n",
    "recommend_movies('The Avengers 2012', 10)"
   ]
  },
  {
   "cell_type": "code",
   "execution_count": null,
   "metadata": {},
   "outputs": [],
   "source": []
  },
  {
   "cell_type": "code",
   "execution_count": 56,
   "metadata": {},
   "outputs": [],
   "source": [
    "def get_top_movies_per_genre(num_movies=10):\n",
    "    df = pd.read_csv(\"6_recommendation/movies.csv\")\n",
    "    for genre in genre_list:\n",
    "        df1 = df.sort_values(by=genre, ascending=False)\n",
    "        count = 0\n",
    "        print (genre + \": \")\n",
    "        print()\n",
    "        for idx,row in df1.iterrows():\n",
    "            print (row['movie_name'])\n",
    "            count+=1\n",
    "            if count >= num_movies:\n",
    "                break\n",
    "        print ()\n",
    "\n",
    "get_top_movies_per_genre()\n",
    "    "
   ]
  },
  {
   "cell_type": "code",
   "execution_count": null,
   "metadata": {},
   "outputs": [],
   "source": [
    "\n"
   ]
  }
 ],
 "metadata": {
  "kernelspec": {
   "display_name": "Python 3",
   "language": "python",
   "name": "python3"
  },
  "language_info": {
   "codemirror_mode": {
    "name": "ipython",
    "version": 3
   },
   "file_extension": ".py",
   "mimetype": "text/x-python",
   "name": "python",
   "nbconvert_exporter": "python",
   "pygments_lexer": "ipython3",
   "version": "3.7.3"
  }
 },
 "nbformat": 4,
 "nbformat_minor": 4
}
