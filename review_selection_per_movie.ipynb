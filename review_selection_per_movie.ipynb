{
 "cells": [
  {
   "cell_type": "code",
   "execution_count": 2,
   "metadata": {},
   "outputs": [],
   "source": [
    "import os\n",
    "import pandas as pd\n",
    "import csv\n",
    "import numpy as np\n",
    "from sklearn.feature_extraction.text import CountVectorizer\n",
    "from sklearn.feature_extraction.text import TfidfVectorizer\n",
    "import math"
   ]
  },
  {
   "cell_type": "code",
   "execution_count": 5,
   "metadata": {},
   "outputs": [
    {
     "name": "stdout",
     "output_type": "stream",
     "text": [
      "['real', 'oscar', 'movies', 'ally', 'coopers', 'gagas', 'characters', 'character', 'singing', 'chemistry', 'watch', 'performance', 'songs', 'born', 'amazing', 'best', 'time', 'star', 'love', 'music', 'great', 'good', 'acting', 'story', 'film', 'bradley', 'cooper', 'lady', 'gaga', 'movie']\n"
     ]
    }
   ],
   "source": [
    "movie_files = os.listdir('3_reviews_per_movie_cleaned')\n",
    "for movie_file in movie_files:\n",
    "    if (movie_file != 'A Star Is Born 2018.csv'): continue # uncomment line to test one movie\n",
    "    #if (movie_file != '010 Fight Club 1999.csv'): continue # uncomment line to test one movie\n",
    "    file_data = pd.read_csv('3_reviews_per_movie_cleaned/' + movie_file)\n",
    "    reviews = file_data['review']\n",
    "    \n",
    "    tfidf_vect = TfidfVectorizer(min_df=2, stop_words='english', norm='l2')\n",
    "    tfidf_vect = tfidf_vect.fit(reviews)\n",
    "    \n",
    "    indices = np.argsort(tfidf_vect.idf_)[::-1]\n",
    "    features = tfidf_vect.get_feature_names()\n",
    "    top_n = 30\n",
    "    top_features = [features[i] for i in indices[-top_n:]]\n",
    "    print((top_features[::]))"
   ]
  }
 ],
 "metadata": {
  "kernelspec": {
   "display_name": "Python 3",
   "language": "python",
   "name": "python3"
  },
  "language_info": {
   "codemirror_mode": {
    "name": "ipython",
    "version": 3
   },
   "file_extension": ".py",
   "mimetype": "text/x-python",
   "name": "python",
   "nbconvert_exporter": "python",
   "pygments_lexer": "ipython3",
   "version": "3.7.6"
  }
 },
 "nbformat": 4,
 "nbformat_minor": 4
}
